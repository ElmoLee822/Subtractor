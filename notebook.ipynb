{
 "cells": [
  {
   "cell_type": "markdown",
   "metadata": {},
   "source": [
    "## Method"
   ]
  },
  {
   "cell_type": "markdown",
   "metadata": {},
   "source": [
    "利用LSTM來實作減法器。\n",
    "由於RNN對於處理序列性的資料有不錯的效果。但RNN會將長期的資訊銓重逐漸隨著傳遞的過程權重減少，而LSTM就補捉長期時間關聯可以處理這樣的問題。"
   ]
  },
  {
   "cell_type": "markdown",
   "metadata": {},
   "source": [
    "## Parameters"
   ]
  },
  {
   "cell_type": "markdown",
   "metadata": {},
   "source": [
    "藉由調整Generating data size, training data size, Validation data size, hidden size, batch size 這些參數來觀察結果變化以及在什麼參數下效能比較好 "
   ]
  },
  {
   "cell_type": "markdown",
   "metadata": {},
   "source": [
    "## Result"
   ]
  },
  {
   "cell_type": "markdown",
   "metadata": {},
   "source": [
    "#### 利用經過實驗得到的最好的參數得到的結果。\n",
    "training data = 63000, validation data = 7000, testing data = 30000, batch size = 64, hidden size = 256\n",
    "#### ---- MSG accuracy = 0.997767\n",
    "<img src=\"img/result_MSG.png\">"
   ]
  },
  {
   "cell_type": "markdown",
   "metadata": {},
   "source": [
    "## Experiments"
   ]
  },
  {
   "cell_type": "markdown",
   "metadata": {},
   "source": [
    "### Experiment - 1\n",
    "### ---change training, validation, testing data size, training epoch\n",
    "固定HIDDEN_SIZE = 128, BATCH_SIZE = 128，第1組和第2組的資料大小總共80000，第3,4,5組的資料大小為100000，在第4組資料 training data = 63000, validation data = 7000, testing data = 30000 時有最好的performance。在第5組時因為training data的size增加，反而造成training的效果變得不好，accuracy也變得不好。"
   ]
  },
  {
   "cell_type": "markdown",
   "metadata": {},
   "source": [
    "<img src=\"img/experiment-1_grid.png\">"
   ]
  },
  {
   "cell_type": "markdown",
   "metadata": {},
   "source": [
    "<img src=\"img/experiment-1.png\">"
   ]
  },
  {
   "cell_type": "markdown",
   "metadata": {},
   "source": [
    "### Group4 model accuracy and loss"
   ]
  },
  {
   "cell_type": "markdown",
   "metadata": {},
   "source": [
    "<img src=\"img/group-4.png\">"
   ]
  },
  {
   "cell_type": "markdown",
   "metadata": {},
   "source": [
    "### Experiment - 2\n",
    "### --- Tune batch size"
   ]
  },
  {
   "cell_type": "markdown",
   "metadata": {},
   "source": [
    "Training data size = 63000, Validation data size = 7000, Testing data size = 30000, training epoch = 80, hidden size = 128\n",
    "\n",
    "1. batch size = 64\n",
    "2. batch size = 128\n",
    "3. batch size = 256\n",
    "\n",
    "#### 由實驗可知，在batch size為64時，有比其他兩者的performace還要高，且可以較快的趨於收斂，loss也下降得較快"
   ]
  },
  {
   "cell_type": "markdown",
   "metadata": {},
   "source": [
    "### --- accuracy in different batch size\n",
    "<img src=\"img/tune_batch_size.png\">"
   ]
  },
  {
   "cell_type": "markdown",
   "metadata": {},
   "source": [
    "### --- MSG prediction result\n",
    "<img src=\"img/batch_MSG_result.png\">"
   ]
  },
  {
   "cell_type": "markdown",
   "metadata": {},
   "source": [
    "### experiment - 3\n",
    "### --- Tune hidden size\n",
    "Training data size = 63000, Validation data size = 7000, Testing data size = 30000, training epoch = 80, batch size = 128\n",
    "1. hidden size = 64\n",
    "2. hidden size = 128\n",
    "3. hidden size = 256\n",
    "\n",
    "#### 由實驗可知 hidden size較大可以較快的趨於收斂，loss也會下降得比較快。"
   ]
  },
  {
   "cell_type": "markdown",
   "metadata": {},
   "source": [
    "### --- accuracy in different hidden size\n",
    "<img src=\"img/tune_hidden_size.png\">\n",
    "### --- MSG prediction result\n",
    "<img src=\"img/hidden_MSG_result.png\">"
   ]
  },
  {
   "cell_type": "markdown",
   "metadata": {},
   "source": [
    "### combine adder and subtractor together"
   ]
  },
  {
   "cell_type": "markdown",
   "metadata": {},
   "source": [
    "label length = 13 [0, 1, 2, 3, 4, 5, 6, 7, 8, 9, +, -, ‘ ’]，Training data size = 99000，Validation data size = 11000，Testing data size = 90000，Epoch = 35, batch size = 128, hidden size = 128"
   ]
  },
  {
   "cell_type": "markdown",
   "metadata": {},
   "source": [
    "利用此種方法將加法器和減法器結合做出來的結果還不錯，MSG prediction 大約有0.93678"
   ]
  },
  {
   "cell_type": "markdown",
   "metadata": {},
   "source": [
    "<img src=\"img/adder_subtractor_MSG.png\">"
   ]
  },
  {
   "cell_type": "markdown",
   "metadata": {},
   "source": [
    "<img src=\"img/adder_subtractor_result.png\">"
   ]
  }
 ],
 "metadata": {
  "kernelspec": {
   "display_name": "Python 3",
   "language": "python",
   "name": "python3"
  },
  "language_info": {
   "codemirror_mode": {
    "name": "ipython",
    "version": 3
   },
   "file_extension": ".py",
   "mimetype": "text/x-python",
   "name": "python",
   "nbconvert_exporter": "python",
   "pygments_lexer": "ipython3",
   "version": "3.6.1"
  }
 },
 "nbformat": 4,
 "nbformat_minor": 2
}
